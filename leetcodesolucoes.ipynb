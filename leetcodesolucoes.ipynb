{
 "cells": [
  {
   "cell_type": "markdown",
   "id": "7a9b0c5d-b2f6-4a9e-b501-d2b3e07db202",
   "metadata": {},
   "source": [
    "## problema 1"
   ]
  },
  {
   "cell_type": "code",
   "execution_count": 3,
   "id": "b2ed197a-8efe-49be-a4e7-2537644433c0",
   "metadata": {},
   "outputs": [],
   "source": [
    "x = [1,2,3,4]"
   ]
  },
  {
   "cell_type": "code",
   "execution_count": 4,
   "id": "6d7f9e75-0536-4416-afa1-cc10fcb200d4",
   "metadata": {},
   "outputs": [
    {
     "name": "stdout",
     "output_type": "stream",
     "text": [
      "[1, 2, 3, 4]\n"
     ]
    }
   ],
   "source": [
    "print(x)"
   ]
  },
  {
   "cell_type": "code",
   "execution_count": 10,
   "id": "23e450ab-d30d-45b1-baad-dd0da184d524",
   "metadata": {},
   "outputs": [],
   "source": [
    "def minha_funcao(texto):\n",
    "    print(texto)"
   ]
  },
  {
   "cell_type": "code",
   "execution_count": 9,
   "id": "cebd5844-e9fb-4b8d-8ce9-1107def3cace",
   "metadata": {},
   "outputs": [
    {
     "name": "stdout",
     "output_type": "stream",
     "text": [
      "teste\n"
     ]
    }
   ],
   "source": [
    "minha_funcao(\"teste\")"
   ]
  },
  {
   "cell_type": "code",
   "execution_count": 14,
   "id": "a0c05b2d-49cd-4743-a2da-39c0a2373e07",
   "metadata": {},
   "outputs": [],
   "source": [
    "class Minha_Class:\n",
    "    def func_01(self,a,b):\n",
    "        print(a)\n",
    "        print(b)"
   ]
  },
  {
   "cell_type": "code",
   "execution_count": 16,
   "id": "f8b0b911-fa99-4799-836c-7d0ebebd966f",
   "metadata": {},
   "outputs": [],
   "source": [
    "x= Minha_Class()"
   ]
  },
  {
   "cell_type": "code",
   "execution_count": 17,
   "id": "d638a7e1-c951-4fce-9f7c-cfdf35d491fb",
   "metadata": {},
   "outputs": [
    {
     "name": "stdout",
     "output_type": "stream",
     "text": [
      "bruno\n",
      "2\n"
     ]
    }
   ],
   "source": [
    "x.func_01(\"bruno\", 2)"
   ]
  },
  {
   "cell_type": "code",
   "execution_count": 47,
   "id": "b22373db-4a5a-4bb4-b2e3-6ad3ee299045",
   "metadata": {},
   "outputs": [],
   "source": [
    "from typing import List\n",
    "\n",
    "class Solution:\n",
    "    def twoSum(self, nums: List[int], target: int) -> List[int]:\n",
    "        retorno = list()\n",
    "\n",
    "        for index1, n1 in enumerate(nums):\n",
    "            index2 = index1\n",
    "            for n2 in nums[index1+1:]:\n",
    "                index2 += 1\n",
    "                soma = n1 + n2\n",
    "                if soma == target:\n",
    "                    retorno.append(index1)\n",
    "                    retorno.append(index2)\n",
    "                    return retorno\n",
    "\n",
    "        "
   ]
  },
  {
   "cell_type": "code",
   "execution_count": 48,
   "id": "5699e48d-fafe-4994-a05d-4c5343020439",
   "metadata": {},
   "outputs": [
    {
     "data": {
      "text/plain": [
       "[0, 1]"
      ]
     },
     "execution_count": 48,
     "metadata": {},
     "output_type": "execute_result"
    }
   ],
   "source": [
    "x = Solution()\n",
    "x.twoSum( nums = [2,7,11,15], target = 9)\n",
    "#x.twoSum( nums = [3,2,4], target = 6)"
   ]
  },
  {
   "cell_type": "code",
   "execution_count": 45,
   "id": "c65fbd25-ce84-45c0-9e71-f5e825e7f010",
   "metadata": {},
   "outputs": [
    {
     "name": "stdout",
     "output_type": "stream",
     "text": [
      "0   90\n",
      "1   1231\n"
     ]
    }
   ],
   "source": [
    "x = [12,123,90,1231]\n",
    "for index, item in enumerate(x[2:]):\n",
    "    print(index, \" \", item)"
   ]
  }
 ],
 "metadata": {
  "kernelspec": {
   "display_name": "Python 3 (ipykernel)",
   "language": "python",
   "name": "python3"
  },
  "language_info": {
   "codemirror_mode": {
    "name": "ipython",
    "version": 3
   },
   "file_extension": ".py",
   "mimetype": "text/x-python",
   "name": "python",
   "nbconvert_exporter": "python",
   "pygments_lexer": "ipython3",
   "version": "3.12.3"
  }
 },
 "nbformat": 4,
 "nbformat_minor": 5
}
